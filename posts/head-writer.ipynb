{
 "cells": [
  {
   "cell_type": "code",
   "execution_count": 1,
   "metadata": {
    "collapsed": true
   },
   "outputs": [],
   "source": [
    "import glob\n",
    "\n",
    "markdowns = [a for a in glob.glob('./*') if '.md' in a]\n",
    "new_markdowns = [a for a in markdowns if '---' not in open(a, 'r', encoding='UTF-8').readline() and '+++' not in open(a, 'r', encoding='UTF-8').readline()]"
   ]
  },
  {
   "cell_type": "code",
   "execution_count": 17,
   "outputs": [],
   "source": [
    "# ['.\\\\data-preprocessing.md', '.\\\\deep-neural-network.md',\n",
    "#  '.\\\\dicision-tree.md', '.\\\\neural-network.md', '.\\\\supervised-learning.md',\n",
    "#  '.\\\\unsupervised-learning.md', '.\\\\게임트리-(minmax,-alpha-beta-pruning).md',\n",
    "#  '.\\\\딥러닝-인터뷰.md', '.\\\\머신-러닝.md', '.\\\\베이즈-정리-&-확신도.md', '.\\\\부정확한-언어-퍼지이론.md',\n",
    "#  '.\\\\용어정리.md', '.\\\\유전-알고리즘.md', '.\\\\전문가시스템.md', '.\\\\탐색.md', '.\\\\튜링-테스트와-기초.md']\n",
    "\n",
    "header = \"\"\"---\n",
    "title: \"운영체제 - 네트워크 저장장치\"\n",
    "date: 2020-09-18T23:24:53+09:00\n",
    "draft: false\n",
    "description: \"네트워크 저장장치\"\n",
    "tags: [\"os\", \"operation-system\"]\n",
    "categories: [\"os\"]\n",
    "thumbnail: \"images/os.png\"\n",
    "---\n",
    "\"\"\"\n",
    "\n",
    "for a in new_markdowns:\n",
    "    with open(a, 'r') as original: data = original.read()\n",
    "    with open(a, 'w') as modified: modified.write(\"new first line\\n\" + data)"
   ],
   "metadata": {
    "collapsed": false,
    "pycharm": {
     "name": "#%%\n"
    }
   }
  }
 ],
 "metadata": {
  "kernelspec": {
   "display_name": "Python 3",
   "language": "python",
   "name": "python3"
  },
  "language_info": {
   "codemirror_mode": {
    "name": "ipython",
    "version": 2
   },
   "file_extension": ".py",
   "mimetype": "text/x-python",
   "name": "python",
   "nbconvert_exporter": "python",
   "pygments_lexer": "ipython2",
   "version": "2.7.6"
  }
 },
 "nbformat": 4,
 "nbformat_minor": 0
}